{
 "cells": [
  {
   "cell_type": "code",
   "execution_count": 1,
   "id": "e05fb4bc-e756-4512-92c0-1309f35f7fd7",
   "metadata": {},
   "outputs": [],
   "source": [
    "import numpy as np\n",
    "import pandas as pd\n",
    "import matplotlib.pyplot as plt\n",
    "%matplotlib inline"
   ]
  },
  {
   "cell_type": "code",
   "execution_count": 18,
   "id": "49578623-164f-4b3f-acc5-286f9c3b40a1",
   "metadata": {},
   "outputs": [],
   "source": [
    "students = pd.read_csv(\"registroEstudiantes/files/registro_estudiantes.csv\", encoding = 'ISO-8859-1')\n",
    "#students.describe()"
   ]
  },
  {
   "cell_type": "code",
   "execution_count": 19,
   "id": "37ab6150-7a71-4117-8eb3-bc799c8e45f7",
   "metadata": {},
   "outputs": [],
   "source": [
    "# Calculamos cuantos estudiantes tiene una nota mayor o igual a 65 pts para cada curso\n",
    "matematicasCount = (students[\"matematicas\"] >= 65).sum()\n",
    "algoritmosCount = (students[\"algoritmos\"] >= 65).sum()\n",
    "socialesCount = (students[\"sociales\"] >= 65).sum()\n",
    "# Calculamos el promedio de los tres cursos\n",
    "matematicasAverage = students[\"matematicas\"].mean()\n",
    "algoritmosAverage = students[\"algoritmos\"].mean()\n",
    "socialesAverage = students[\"sociales\"].mean()"
   ]
  },
  {
   "cell_type": "code",
   "execution_count": 22,
   "id": "d28b25b7-34a3-4955-8523-413a6d4d0dbc",
   "metadata": {},
   "outputs": [
    {
     "name": "stdout",
     "output_type": "stream",
     "text": [
      "----- Analisis del archivo -----\n",
      "1. Para cada uno de los tres cursos que se han registrado:\n",
      "1.1. Cuantos estudiantes lo aprobaron (>= 65 pts.)?\n",
      "1.1.1.  562  estudiantes aprobaron el curso de matematicas\n",
      "1.1.2.  655  estudiantes aprobaron el curso de algoritmos\n",
      "1.1.3.  615  estudiantes aprobaron el curso de sociales\n",
      "\n",
      "\n",
      "1.2. Cual fue el promedio de las notas de los estudiantes?\n",
      "1.2.1 La nota promedio del curso de matematicas es  66.666  puntos.\n",
      "1.2.2 La nota promedio del curso de algoritmos es  69.518  puntos.\n",
      "1.2.3 La nota promedio del curso de sociales es  68.25  puntos.\n"
     ]
    }
   ],
   "source": [
    "print(\"----- Analisis del archivo -----\")\n",
    "print('1. Para cada uno de los tres cursos que se han registrado:')\n",
    "print('1.1. Cuantos estudiantes lo aprobaron (>= 65 pts.)?')\n",
    "print('1.1.1. ', matematicasCount, ' estudiantes aprobaron el curso de matematicas')\n",
    "print('1.1.2. ', algoritmosCount, ' estudiantes aprobaron el curso de algoritmos')\n",
    "print('1.1.3. ', socialesCount, ' estudiantes aprobaron el curso de sociales')\n",
    "print('\\n')\n",
    "print('1.2. Cual fue el promedio de las notas de los estudiantes?')\n",
    "print('1.2.1 La nota promedio del curso de matematicas es ', matematicasAverage, ' puntos.')\n",
    "print('1.2.2 La nota promedio del curso de algoritmos es ', algoritmosAverage, ' puntos.')\n",
    "print('1.2.3 La nota promedio del curso de sociales es ', socialesAverage, ' puntos.')"
   ]
  },
  {
   "cell_type": "code",
   "execution_count": 64,
   "id": "656eae94-635e-4e86-9c05-9f9fe2e2c7fb",
   "metadata": {},
   "outputs": [],
   "source": [
    "# Verificamos cuantos estudiantes ganaron los 3 cursos\n",
    "estudiantesAprobados = len(students[((students[\"matematicas\"] >= 65) & (students[\"algoritmos\"] >= 65) & (students[\"sociales\"] >= 65))])\n",
    "estudiantesReprobados = len(students[((students[\"matematicas\"] < 65) & (students[\"algoritmos\"] < 65) & (students[\"sociales\"] < 65))])"
   ]
  },
  {
   "cell_type": "code",
   "execution_count": 65,
   "id": "6b12820e-4dea-4b13-bddc-67a40de45384",
   "metadata": {},
   "outputs": [
    {
     "name": "stdout",
     "output_type": "stream",
     "text": [
      "2. Cuantos estudiantes aprobaron los tres cursos?\n",
      "2.1.  464  estudiantes aprobaron los 3 cursos\n",
      "3. Cuantos estudiantes reprobaron los tres cursos?\n",
      "3.1.  266  estudiantes reprobaron los 3 cursos\n"
     ]
    }
   ],
   "source": [
    "print('2. Cuantos estudiantes aprobaron los tres cursos?')\n",
    "print('2.1. ', estudiantesAprobados, ' estudiantes aprobaron los 3 cursos')\n",
    "print('3. Cuantos estudiantes reprobaron los tres cursos?')\n",
    "print('3.1. ', estudiantesReprobados, ' estudiantes reprobaron los 3 cursos')"
   ]
  },
  {
   "cell_type": "code",
   "execution_count": 67,
   "id": "baec633b-764f-43fe-b644-d5f3c61bb1f2",
   "metadata": {},
   "outputs": [],
   "source": [
    "# 4. La nota promedio de los estudiantes es calculada y guardada en la columna average\n",
    "students['average'] = (students['matematicas'].astype(float) + students['algoritmos'].astype(float) + students['sociales'].astype(float)) / 3\n"
   ]
  },
  {
   "cell_type": "code",
   "execution_count": 75,
   "id": "f947bafe-15c2-4cbb-a34f-5f46d4d771d7",
   "metadata": {},
   "outputs": [],
   "source": [
    "# 5. Generamos una funcion para calcular la distincion del alumno\n",
    "def distincion(row):\n",
    "    if row['average'] >= 90 and row['average'] <= 100:\n",
    "        return 'Excelencia Maximus'\n",
    "    elif row['average'] >= 80 and row['average'] < 90:\n",
    "        return 'Excelencia'\n",
    "    elif row['average'] < 80:\n",
    "        return 'Sin Distincion'\n",
    "    return 'Sin Distincion'\n",
    "\n",
    "students['distincion'] = students.apply(lambda row: distincion(row), axis=1) # agregamos la nueva columna al dataframe"
   ]
  },
  {
   "cell_type": "code",
   "execution_count": 106,
   "id": "70908a24-e70a-487b-8c6f-8635222afdcb",
   "metadata": {},
   "outputs": [
    {
     "data": {
      "image/png": "[encoded data removed]",
      "text/plain": [
       "<Figure size 432x288 with 1 Axes>"
      ]
     },
     "metadata": {
      "needs_background": "light"
     },
     "output_type": "display_data"
    }
   ],
   "source": [
    "# 6. Grafica de distinciones por sexo\n",
    "# Primeros filtramos los estudiantes que tienen distincion y luego los agrupamos por distincion y sexo\n",
    "grouped = students[students['distincion'] != 'Sin Distincion'].groupby(['distincion', 'sexo']).size() # Agrupamos los datos por Genero y sumamos valores\n",
    "grouped\n",
    "\n",
    "# Luego hacemos un unstack y mostramos la grafica de barras\n",
    "grouped.unstack().plot.bar(stacked=True)\n",
    "plt.xticks(rotation=30)\n",
    "plt.show()"
   ]
  },
  {
   "cell_type": "code",
   "execution_count": 112,
   "id": "6aa4c5a1-3783-4a70-8515-055116374849",
   "metadata": {},
   "outputs": [
    {
     "name": "stdout",
     "output_type": "stream",
     "text": [
      "7. Analice la información que contiene el archivo y presente alguna estadistica adicional\n",
      "7.1. Hay 613  estudiantes con promedio mayor o igual a 65 puntos\n",
      "7.2. Hay 387  estudiantes con promedio menor a 65 puntos\n",
      "7.3. Hay 67  estudiantes que obtuvieron la distincion \"Excelencia Maximus\"\n",
      "7.4. Hay 135  estudiantes que obtuvieron la distincion \"Excelencia\"\n",
      "7.5. Hay 798  estudiantes que no obtuvieron ninguna distincion\n"
     ]
    }
   ],
   "source": [
    "estudiantesAprobados = (students[\"average\"] >= 65).sum()\n",
    "estudiantesReprobados = (students[\"average\"] < 65).sum()\n",
    "exMax = (students[\"distincion\"] == 'Excelencia Maximus').sum()\n",
    "ex = (students[\"distincion\"] == 'Excelencia').sum()\n",
    "sin = (students[\"distincion\"] == 'Sin Distincion').sum()\n",
    "print('7. Analice la información que contiene el archivo y presente alguna estadistica adicional')\n",
    "print('7.1. Hay', estudiantesAprobados, ' estudiantes con promedio mayor o igual a 65 puntos')\n",
    "print('7.2. Hay', estudiantesReprobados, ' estudiantes con promedio menor a 65 puntos')\n",
    "print('7.3. Hay', exMax, ' estudiantes que obtuvieron la distincion \"Excelencia Maximus\"')\n",
    "print('7.4. Hay', ex, ' estudiantes que obtuvieron la distincion \"Excelencia\"')\n",
    "print('7.5. Hay', sin, ' estudiantes que no obtuvieron ninguna distincion')"
   ]
  },
  {
   "cell_type": "code",
   "execution_count": null,
   "id": "dfa3f735-230c-43ce-b5b6-be49cce33b89",
   "metadata": {},
   "outputs": [],
   "source": []
  }
 ],
 "metadata": {
  "kernelspec": {
   "display_name": "Python 3 (ipykernel)",
   "language": "python",
   "name": "python3"
  },
  "language_info": {
   "codemirror_mode": {
    "name": "ipython",
    "version": 3
   },
   "file_extension": ".py",
   "mimetype": "text/x-python",
   "name": "python",
   "nbconvert_exporter": "python",
   "pygments_lexer": "ipython3",
   "version": "3.9.7"
  }
 },
 "nbformat": 4,
 "nbformat_minor": 5
}
